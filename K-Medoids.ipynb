{
 "cells": [
  {
   "cell_type": "code",
   "execution_count": 1,
   "id": "c8d5419f",
   "metadata": {},
   "outputs": [
    {
     "name": "stdout",
     "output_type": "stream",
     "text": [
      "[[0, 1, 2, 3, 5], [4]]\n",
      "[1, 4]\n"
     ]
    }
   ],
   "source": [
    "from pyclustering.cluster.kmedoids import kmedoids\n",
    "import numpy as np\n",
    "\n",
    "dm = np.array(\n",
    "    [[0.,1.91,2.23,3.14,4.25,3.37],\n",
    "    [0.,0.,2.15,1.82,2.41,2.58],\n",
    "    [0.,0.,0.,3.12,3.83,4.64],\n",
    "    [0.,0.,0.,0.,1.9,2.66],\n",
    "    [0.,0.,0.,0.,0.,3.12],\n",
    "    [0.,0.,0.,0.,0.,0.]])\n",
    "dm = dm + np.transpose(dm)\n",
    "k = 2\n",
    "\n",
    "initial_medoids = [1,3]\n",
    "kmedoids_instance = kmedoids(dm, initial_medoids, data_type = 'distance_matrix')\n",
    "\n",
    "kmedoids_instance.process()\n",
    "clusters = kmedoids_instance.get_clusters()\n",
    "centers = kmedoids_instance.get_medoids()\n",
    "print(clusters)\n",
    "print(centers)\n"
   ]
  },
  {
   "cell_type": "code",
   "execution_count": 5,
   "id": "1628a958",
   "metadata": {},
   "outputs": [],
   "source": [
    "from numpy import genfromtxt\n",
    "data = genfromtxt('data9.csv', delimiter=',')"
   ]
  },
  {
   "cell_type": "code",
   "execution_count": 6,
   "id": "5bcc008d",
   "metadata": {},
   "outputs": [
    {
     "data": {
      "text/plain": [
       "array([[25.04276893, 55.13831958],\n",
       "       [25.06423926, 55.13831866],\n",
       "       [25.198765  , 55.2796053 ],\n",
       "       [25.20527964, 55.26696635],\n",
       "       [25.0641917 , 55.1380504 ],\n",
       "       [25.04278905, 55.1383133 ],\n",
       "       [25.0422564 , 55.138187  ],\n",
       "       [25.0426488 , 55.1379612 ]])"
      ]
     },
     "execution_count": 6,
     "metadata": {},
     "output_type": "execute_result"
    }
   ],
   "source": [
    "data"
   ]
  },
  {
   "cell_type": "code",
   "execution_count": 8,
   "id": "79d3918e",
   "metadata": {},
   "outputs": [],
   "source": [
    "import matplotlib.pyplot as plt"
   ]
  },
  {
   "cell_type": "code",
   "execution_count": 15,
   "id": "33bfd74b",
   "metadata": {},
   "outputs": [
    {
     "name": "stdout",
     "output_type": "stream",
     "text": [
      "[25.04276893 25.06423926 25.198765   25.20527964 25.0641917  25.04278905\n",
      " 25.0422564  25.0426488 ]\n",
      "[55.13831958 55.13831866 55.2796053  55.26696635 55.1380504  55.1383133\n",
      " 55.138187   55.1379612 ]\n"
     ]
    }
   ],
   "source": [
    "y= data[:,0]\n",
    "x= data[:,1]\n",
    "print(y)\n",
    "print(x)"
   ]
  },
  {
   "cell_type": "code",
   "execution_count": 16,
   "id": "028cab6d",
   "metadata": {},
   "outputs": [
    {
     "data": {
      "image/png": "[encoded data removed]",
      "text/plain": [
       "<Figure size 432x288 with 1 Axes>"
      ]
     },
     "metadata": {
      "needs_background": "light"
     },
     "output_type": "display_data"
    }
   ],
   "source": [
    "plt.scatter(x, y)\n",
    "plt.show()"
   ]
  },
  {
   "cell_type": "code",
   "execution_count": null,
   "id": "3126278d",
   "metadata": {},
   "outputs": [],
   "source": []
  },
  {
   "cell_type": "code",
   "execution_count": 18,
   "id": "bfc60bed",
   "metadata": {},
   "outputs": [
    {
     "name": "stdout",
     "output_type": "stream",
     "text": [
      "[[0, 1, 4, 5, 6, 7], [2, 3]]\n",
      "[5, 2]\n"
     ]
    }
   ],
   "source": [
    "initial_medoids = [1,3]\n",
    "kmedoids_instance = kmedoids(data, initial_medoids)\n",
    "\n",
    "kmedoids_instance.process()\n",
    "clusters = kmedoids_instance.get_clusters()\n",
    "centers = kmedoids_instance.get_medoids()\n",
    "print(clusters)\n",
    "print(centers)"
   ]
  },
  {
   "cell_type": "code",
   "execution_count": 19,
   "id": "7d21c0cb",
   "metadata": {},
   "outputs": [
    {
     "data": {
      "text/plain": [
       "array([[25.04276893, 55.13831958],\n",
       "       [25.06423926, 55.13831866],\n",
       "       [25.0641917 , 55.1380504 ],\n",
       "       [25.04278905, 55.1383133 ],\n",
       "       [25.0422564 , 55.138187  ],\n",
       "       [25.0426488 , 55.1379612 ]])"
      ]
     },
     "execution_count": 19,
     "metadata": {},
     "output_type": "execute_result"
    }
   ],
   "source": [
    "data[clusters[0]]"
   ]
  },
  {
   "cell_type": "code",
   "execution_count": 25,
   "id": "6b8ee5f1",
   "metadata": {},
   "outputs": [
    {
     "name": "stdout",
     "output_type": "stream",
     "text": [
      "[25.04276893 25.06423926 25.0641917  25.04278905 25.0422564  25.0426488 ]\n",
      "[55.13831958 55.13831866 55.1380504  55.1383133  55.138187   55.1379612 ]\n",
      "[25.198765   25.20527964]\n",
      "[55.2796053  55.26696635]\n"
     ]
    }
   ],
   "source": [
    "y1= data[clusters[0]][:,0]\n",
    "x1= data[clusters[0]][:,1]\n",
    "print(y1)\n",
    "print(x1)\n",
    "y2= data[clusters[1]][:,0]\n",
    "x2= data[clusters[1]][:,1]\n",
    "print(y2)\n",
    "print(x2)\n"
   ]
  },
  {
   "cell_type": "code",
   "execution_count": null,
   "id": "71543495",
   "metadata": {},
   "outputs": [],
   "source": []
  }
 ],
 "metadata": {
  "kernelspec": {
   "display_name": "Python 3 (ipykernel)",
   "language": "python",
   "name": "python3"
  },
  "language_info": {
   "codemirror_mode": {
    "name": "ipython",
    "version": 3
   },
   "file_extension": ".py",
   "mimetype": "text/x-python",
   "name": "python",
   "nbconvert_exporter": "python",
   "pygments_lexer": "ipython3",
   "version": "3.9.7"
  }
 },
 "nbformat": 4,
 "nbformat_minor": 5
}
